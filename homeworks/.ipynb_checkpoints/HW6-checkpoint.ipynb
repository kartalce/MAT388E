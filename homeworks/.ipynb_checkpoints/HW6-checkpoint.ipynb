{
 "cells": [
  {
   "cell_type": "markdown",
   "metadata": {},
   "source": [
    "# Homework 6\n",
    "\n",
    "\n",
    "## EMNIST Dataset\n",
    "\n",
    "[EMNIST dataset](https://www.nist.gov/itl/iad/image-group/emnist-dataset) is a set of hand-written characters and digits. Each of the data points is a grayscale image of size 28x28 pixels.  The structure of the dataset is the same as the infamous [MNIST](http://yann.lecun.com/exdb/mnist/) dataset, but this dataset contains more samples and also contains characters. You can find more information on the dataset in the paper available at [https://arxiv.org/abs/1702.05373v1](https://arxiv.org/abs/1702.05373v1)\n",
    "\n",
    "You can find the dataset you need [at this link](https://www.dropbox.com/sh/vgap8ici7xs5w7f/AACE-9RrDpbGCc6bP72gHRfUa?dl=0).  Please download and use your local copy to do the homework.\n",
    "\n",
    "## Task 1\n",
    "\n",
    "Ingest the data (both the train and test sets) into this pyhthon notebook as a numpy array.\n",
    "\n",
    "\n",
    "## Task 2\n",
    "\n",
    "Write a convolutional artifial neural network model, train it and test it.\n",
    "\n",
    "\n",
    "## Notes\n",
    "\n",
    "1. You need to document each of your steps in both the ingestion phase and processing phase: explain the steps taken, the problems you encounter, how you solved them.\n",
    "\n",
    "2. DO NOT write python classes.  In other words, I do not want to see `__init__` or `__main__` in your code.  They are hard to follow (as they contain mutable state) and hard to port to future code you might write on a similar project.\n",
    "\n",
    "3. When you upload your solution to github, DO NOT include the datasets. They are large and I already have copies. I can test your models on the copy I have."
   ]
  },
  {
   "cell_type": "markdown",
   "metadata": {},
   "source": [
    "## Task 1"
   ]
  },
  {
   "cell_type": "markdown",
   "metadata": {},
   "source": [
    "First, we need to import required packages."
   ]
  },
  {
   "cell_type": "code",
   "execution_count": 1,
   "metadata": {},
   "outputs": [
    {
     "name": "stderr",
     "output_type": "stream",
     "text": [
      "C:\\Users\\ceren\\Anaconda3\\lib\\site-packages\\h5py\\__init__.py:36: FutureWarning: Conversion of the second argument of issubdtype from `float` to `np.floating` is deprecated. In future, it will be treated as `np.float64 == np.dtype(float).type`.\n",
      "  from ._conv import register_converters as _register_converters\n",
      "Using TensorFlow backend.\n"
     ]
    }
   ],
   "source": [
    "import numpy as np\n",
    "import tensorflow as tf\n",
    "import keras\n",
    "from keras.models import Sequential\n",
    "from keras.layers import Dense, Conv2D, Dropout, Activation, MaxPooling2D, Flatten"
   ]
  },
  {
   "cell_type": "markdown",
   "metadata": {},
   "source": [
    "From the code below, the train and test images and labels are imported as numpy array."
   ]
  },
  {
   "cell_type": "code",
   "execution_count": 2,
   "metadata": {},
   "outputs": [
    {
     "name": "stdout",
     "output_type": "stream",
     "text": [
      "WARNING:tensorflow:From <ipython-input-2-0deee3c4e0a4>:5: extract_images (from tensorflow.contrib.learn.python.learn.datasets.mnist) is deprecated and will be removed in a future version.\n",
      "Instructions for updating:\n",
      "Please use tf.data to implement this functionality.\n",
      "Extracting C:\\Users\\ceren/MAT388E/data/EMNIST/emnist-balanced-test-images-idx3-ubyte.gz\n",
      "WARNING:tensorflow:From <ipython-input-2-0deee3c4e0a4>:7: extract_labels (from tensorflow.contrib.learn.python.learn.datasets.mnist) is deprecated and will be removed in a future version.\n",
      "Instructions for updating:\n",
      "Please use tf.data to implement this functionality.\n",
      "Extracting C:\\Users\\ceren/MAT388E/data/EMNIST/emnist-balanced-test-labels-idx1-ubyte.gz\n",
      "Extracting C:\\Users\\ceren/MAT388E/data/EMNIST/emnist-balanced-train-images-idx3-ubyte.gz\n",
      "Extracting C:\\Users\\ceren/MAT388E/data/EMNIST/emnist-balanced-train-labels-idx1-ubyte.gz\n"
     ]
    }
   ],
   "source": [
    "from tensorflow.contrib.learn.python.learn.datasets.mnist import extract_images, extract_labels\n",
    "import os\n",
    "\n",
    "with open(os.path.expanduser('~/MAT388E/data/EMNIST/emnist-balanced-test-images-idx3-ubyte.gz'), 'rb') as f:\n",
    "    test_images = extract_images(f)\n",
    "with open(os.path.expanduser('~/MAT388E/data/EMNIST/emnist-balanced-test-labels-idx1-ubyte.gz'), 'rb') as f:\n",
    "    test_labels = extract_labels(f)\n",
    "\n",
    "with open(os.path.expanduser('~/MAT388E/data/EMNIST/emnist-balanced-train-images-idx3-ubyte.gz'), 'rb') as f:\n",
    "    train_images = extract_images(f)\n",
    "with open(os.path.expanduser('~/MAT388E/data/EMNIST/emnist-balanced-train-labels-idx1-ubyte.gz'), 'rb') as f:\n",
    "    train_labels = extract_labels(f)"
   ]
  },
  {
   "cell_type": "code",
   "execution_count": 37,
   "metadata": {},
   "outputs": [
    {
     "name": "stdout",
     "output_type": "stream",
     "text": [
      "train labels \n",
      " [45 36 43 ... 23 31  8]\n",
      "\n",
      "train labels to categorical \n",
      " [[0. 0. 0. ... 0. 1. 0.]\n",
      " [0. 0. 0. ... 0. 0. 0.]\n",
      " [0. 0. 0. ... 0. 0. 0.]\n",
      " ...\n",
      " [0. 0. 0. ... 0. 0. 0.]\n",
      " [0. 0. 0. ... 0. 0. 0.]\n",
      " [0. 0. 0. ... 0. 0. 0.]]\n",
      "\n",
      "test labels \n",
      " [41 39  9 ...  1 26 33]\n",
      "\n",
      "test labels to categorical \n",
      " [[0. 0. 0. ... 0. 0. 0.]\n",
      " [0. 0. 0. ... 0. 0. 0.]\n",
      " [0. 0. 0. ... 0. 0. 0.]\n",
      " ...\n",
      " [0. 1. 0. ... 0. 0. 0.]\n",
      " [0. 0. 0. ... 0. 0. 0.]\n",
      " [0. 0. 0. ... 0. 0. 0.]]\n"
     ]
    }
   ],
   "source": [
    "print('train labels \\n',train_labels)\n",
    "ys = keras.utils.to_categorical(train_labels)\n",
    "print('\\ntrain labels to categorical \\n',ys)\n",
    "print('\\ntest labels \\n',test_labels)\n",
    "ys_test = keras.utils.to_categorical(test_labels)\n",
    "print('\\ntest labels to categorical \\n',ys_test)"
   ]
  },
  {
   "cell_type": "code",
   "execution_count": 39,
   "metadata": {},
   "outputs": [
    {
     "name": "stdout",
     "output_type": "stream",
     "text": [
      "the number of labels in the train dataset is:  47\n",
      "the number of labels in the test dataset is:  47\n"
     ]
    }
   ],
   "source": [
    "print('the number of labels in the train dataset is: ',len(set(train_labels)))\n",
    "print('the number of labels in the test dataset is: ',len(set(test_labels)))"
   ]
  },
  {
   "cell_type": "markdown",
   "metadata": {},
   "source": [
    "## Task 2"
   ]
  },
  {
   "cell_type": "markdown",
   "metadata": {},
   "source": [
    "The neural network model is built as follows:"
   ]
  },
  {
   "cell_type": "code",
   "execution_count": 45,
   "metadata": {},
   "outputs": [],
   "source": [
    "model = Sequential()\n",
    "model.add(Conv2D(128, (8,8), input_shape=(28,28,1,), activation='softsign'))"
   ]
  },
  {
   "cell_type": "code",
   "execution_count": 46,
   "metadata": {},
   "outputs": [],
   "source": [
    "model.add(Dense(64,activation='relu'))\n",
    "model.add(Dropout(0.25))"
   ]
  },
  {
   "cell_type": "code",
   "execution_count": 47,
   "metadata": {},
   "outputs": [],
   "source": [
    "model.add(MaxPooling2D(pool_size=(3,3)))"
   ]
  },
  {
   "cell_type": "code",
   "execution_count": 48,
   "metadata": {},
   "outputs": [],
   "source": [
    "model.add(Flatten())\n",
    "model.add(Dense(47, activation='sigmoid'))"
   ]
  },
  {
   "cell_type": "code",
   "execution_count": 50,
   "metadata": {},
   "outputs": [
    {
     "name": "stdout",
     "output_type": "stream",
     "text": [
      "Train on 112800 samples, validate on 18800 samples\n",
      "Epoch 1/10\n",
      "112800/112800 [==============================] - 343s 3ms/step - loss: 0.5042 - acc: 0.8381 - val_loss: 0.5158 - val_acc: 0.8350\n",
      "Epoch 2/10\n",
      "112800/112800 [==============================] - 340s 3ms/step - loss: 0.4907 - acc: 0.8423 - val_loss: 0.4989 - val_acc: 0.8399\n",
      "Epoch 3/10\n",
      "112800/112800 [==============================] - 353s 3ms/step - loss: 0.4932 - acc: 0.8429 - val_loss: 0.5027 - val_acc: 0.8421\n",
      "Epoch 4/10\n",
      "112800/112800 [==============================] - 358s 3ms/step - loss: 0.4960 - acc: 0.8429 - val_loss: 0.5042 - val_acc: 0.8436\n",
      "Epoch 5/10\n",
      "112800/112800 [==============================] - 367s 3ms/step - loss: 0.4971 - acc: 0.8421 - val_loss: 0.5088 - val_acc: 0.8365\n",
      "Epoch 6/10\n",
      "112800/112800 [==============================] - 367s 3ms/step - loss: 0.5027 - acc: 0.8419 - val_loss: 0.5188 - val_acc: 0.8349\n",
      "Epoch 7/10\n",
      "112800/112800 [==============================] - 368s 3ms/step - loss: 0.5091 - acc: 0.8403 - val_loss: 0.5527 - val_acc: 0.8291\n",
      "Epoch 8/10\n",
      "112800/112800 [==============================] - 368s 3ms/step - loss: 0.5177 - acc: 0.8387 - val_loss: 0.5556 - val_acc: 0.8236\n",
      "Epoch 9/10\n",
      "112800/112800 [==============================] - 368s 3ms/step - loss: 0.5211 - acc: 0.8377 - val_loss: 0.6325 - val_acc: 0.8120\n",
      "Epoch 10/10\n",
      "112800/112800 [==============================] - 367s 3ms/step - loss: 0.5268 - acc: 0.8371 - val_loss: 0.5202 - val_acc: 0.8331\n"
     ]
    },
    {
     "data": {
      "text/plain": [
       "<keras.callbacks.History at 0x2040d9811d0>"
      ]
     },
     "execution_count": 50,
     "metadata": {},
     "output_type": "execute_result"
    }
   ],
   "source": [
    "model.compile(loss='categorical_crossentropy', metrics=['accuracy'], optimizer='RMSProp')\n",
    "model.fit(train_images.reshape(112800,28,28,1), ys, batch_size=32, epochs=10, validation_data=(test_images.reshape(18800,28,28,1), ys_test))"
   ]
  },
  {
   "cell_type": "markdown",
   "metadata": {},
   "source": [
    "Accuracy of the model is 83.71% in the train set and 83.31% in the test set. "
   ]
  },
  {
   "cell_type": "code",
   "execution_count": 51,
   "metadata": {},
   "outputs": [
    {
     "name": "stdout",
     "output_type": "stream",
     "text": [
      "18800/18800 [==============================] - 15s 789us/step\n"
     ]
    },
    {
     "data": {
      "text/plain": [
       "[0.5202114541987155, 0.8331382978723404]"
      ]
     },
     "execution_count": 51,
     "metadata": {},
     "output_type": "execute_result"
    }
   ],
   "source": [
    "result = model.evaluate(test_images.reshape(18800,28,28,1), ys_test, batch_size=32, verbose=1)\n",
    "result"
   ]
  },
  {
   "cell_type": "markdown",
   "metadata": {},
   "source": [
    "Summary of the model can be seen in the following table:"
   ]
  },
  {
   "cell_type": "code",
   "execution_count": 53,
   "metadata": {},
   "outputs": [
    {
     "name": "stdout",
     "output_type": "stream",
     "text": [
      "_________________________________________________________________\n",
      "Layer (type)                 Output Shape              Param #   \n",
      "=================================================================\n",
      "conv2d_9 (Conv2D)            (None, 21, 21, 128)       8320      \n",
      "_________________________________________________________________\n",
      "dense_11 (Dense)             (None, 21, 21, 64)        8256      \n",
      "_________________________________________________________________\n",
      "dropout_5 (Dropout)          (None, 21, 21, 64)        0         \n",
      "_________________________________________________________________\n",
      "max_pooling2d_6 (MaxPooling2 (None, 7, 7, 64)          0         \n",
      "_________________________________________________________________\n",
      "flatten_6 (Flatten)          (None, 3136)              0         \n",
      "_________________________________________________________________\n",
      "dense_12 (Dense)             (None, 47)                147439    \n",
      "=================================================================\n",
      "Total params: 164,015\n",
      "Trainable params: 164,015\n",
      "Non-trainable params: 0\n",
      "_________________________________________________________________\n"
     ]
    }
   ],
   "source": [
    "model.summary()"
   ]
  }
 ],
 "metadata": {
  "kernelspec": {
   "display_name": "Python 3",
   "language": "python",
   "name": "python3"
  },
  "language_info": {
   "codemirror_mode": {
    "name": "ipython",
    "version": 3
   },
   "file_extension": ".py",
   "mimetype": "text/x-python",
   "name": "python",
   "nbconvert_exporter": "python",
   "pygments_lexer": "ipython3",
   "version": "3.6.4"
  }
 },
 "nbformat": 4,
 "nbformat_minor": 2
}
