{
 "cells": [
  {
   "cell_type": "markdown",
   "metadata": {},
   "source": [
    "# Homework 3\n",
    "\n",
    "Unzip the zip file that contains the homework and the data associated with it, then run the code below:"
   ]
  },
  {
   "cell_type": "code",
   "execution_count": 1,
   "metadata": {},
   "outputs": [],
   "source": [
    "import os\n",
    "import sys\n",
    "import hashlib\n",
    "import pandas as pd\n",
    "from sklearn.model_selection import train_test_split\n",
    "from sklearn.cluster import KMeans\n",
    "from sklearn.metrics import confusion_matrix\n",
    "from sklearn.neighbors import KNeighborsClassifier\n",
    "from sklearn.preprocessing import StandardScaler\n",
    "\n",
    "assert os.path.exists('../homeworks/HW3.ipynb')\n",
    "assert os.path.exists('../data/hw3-task2-data.csv')\n",
    "assert os.path.exists('../data/BreastTissue.xlsx')\n"
   ]
  },
  {
   "cell_type": "markdown",
   "metadata": {},
   "source": [
    "## Task 1\n",
    "\n",
    "Run the code below before you start working on your homework:\n"
   ]
  },
  {
   "cell_type": "code",
   "execution_count": 2,
   "metadata": {},
   "outputs": [],
   "source": [
    "info = sys.platform + '\\n' + sys.version + '\\n' + os.getcwd() + '\\n' + os.getlogin()\n",
    "name = hashlib.sha256(info.encode('utf-8')).hexdigest()\n",
    "with open('../other/'+name,'w') as f:\n",
    "    f.write(info)"
   ]
  },
  {
   "cell_type": "code",
   "execution_count": 3,
   "metadata": {},
   "outputs": [],
   "source": [
    "with open('../other/'+name,'r') as f:\n",
    "    info = f.read()\n",
    "name = hashlib.sha256(info.encode('utf-8')).hexdigest()\n",
    "assert os.path.exists('../other/'+name)"
   ]
  },
  {
   "cell_type": "markdown",
   "metadata": {},
   "source": [
    "## Task 2\n",
    "\n",
    "Using [`pandas.read_csv`](https://pandas.pydata.org/pandas-docs/stable/generated/pandas.read_csv.html) function read the data file '`data/hw3-task2-data.csv`' below:"
   ]
  },
  {
   "cell_type": "code",
   "execution_count": 4,
   "metadata": {},
   "outputs": [
    {
     "data": {
      "text/html": [
       "<div>\n",
       "<style scoped>\n",
       "    .dataframe tbody tr th:only-of-type {\n",
       "        vertical-align: middle;\n",
       "    }\n",
       "\n",
       "    .dataframe tbody tr th {\n",
       "        vertical-align: top;\n",
       "    }\n",
       "\n",
       "    .dataframe thead th {\n",
       "        text-align: right;\n",
       "    }\n",
       "</style>\n",
       "<table border=\"1\" class=\"dataframe\">\n",
       "  <thead>\n",
       "    <tr style=\"text-align: right;\">\n",
       "      <th></th>\n",
       "      <th>x</th>\n",
       "      <th>y</th>\n",
       "      <th>c</th>\n",
       "    </tr>\n",
       "  </thead>\n",
       "  <tbody>\n",
       "    <tr>\n",
       "      <th>1</th>\n",
       "      <td>-2.873979</td>\n",
       "      <td>-1.977563</td>\n",
       "      <td>0</td>\n",
       "    </tr>\n",
       "    <tr>\n",
       "      <th>2</th>\n",
       "      <td>-1.939798</td>\n",
       "      <td>-2.758217</td>\n",
       "      <td>0</td>\n",
       "    </tr>\n",
       "    <tr>\n",
       "      <th>3</th>\n",
       "      <td>-1.954560</td>\n",
       "      <td>2.657385</td>\n",
       "      <td>0</td>\n",
       "    </tr>\n",
       "    <tr>\n",
       "      <th>4</th>\n",
       "      <td>-3.284104</td>\n",
       "      <td>1.952121</td>\n",
       "      <td>0</td>\n",
       "    </tr>\n",
       "    <tr>\n",
       "      <th>5</th>\n",
       "      <td>-1.954758</td>\n",
       "      <td>2.351581</td>\n",
       "      <td>0</td>\n",
       "    </tr>\n",
       "    <tr>\n",
       "      <th>6</th>\n",
       "      <td>-1.133108</td>\n",
       "      <td>2.649699</td>\n",
       "      <td>0</td>\n",
       "    </tr>\n",
       "    <tr>\n",
       "      <th>7</th>\n",
       "      <td>-0.063933</td>\n",
       "      <td>-2.703307</td>\n",
       "      <td>0</td>\n",
       "    </tr>\n",
       "    <tr>\n",
       "      <th>8</th>\n",
       "      <td>2.272370</td>\n",
       "      <td>-1.921207</td>\n",
       "      <td>0</td>\n",
       "    </tr>\n",
       "    <tr>\n",
       "      <th>9</th>\n",
       "      <td>2.627003</td>\n",
       "      <td>-2.284012</td>\n",
       "      <td>0</td>\n",
       "    </tr>\n",
       "    <tr>\n",
       "      <th>10</th>\n",
       "      <td>1.695585</td>\n",
       "      <td>-3.618690</td>\n",
       "      <td>0</td>\n",
       "    </tr>\n",
       "  </tbody>\n",
       "</table>\n",
       "</div>"
      ],
      "text/plain": [
       "           x         y  c\n",
       "1  -2.873979 -1.977563  0\n",
       "2  -1.939798 -2.758217  0\n",
       "3  -1.954560  2.657385  0\n",
       "4  -3.284104  1.952121  0\n",
       "5  -1.954758  2.351581  0\n",
       "6  -1.133108  2.649699  0\n",
       "7  -0.063933 -2.703307  0\n",
       "8   2.272370 -1.921207  0\n",
       "9   2.627003 -2.284012  0\n",
       "10  1.695585 -3.618690  0"
      ]
     },
     "execution_count": 4,
     "metadata": {},
     "output_type": "execute_result"
    }
   ],
   "source": [
    "task2_data = pd.read_csv(os.path.expanduser('~/MAT388E/data/hw3-task2-data.csv'), sep=',')\n",
    "task2_data.head(10)"
   ]
  },
  {
   "cell_type": "markdown",
   "metadata": {},
   "source": [
    "Now, using the [`train_test_split`](http://scikit-learn.org/stable/modules/generated/sklearn.model_selection.train_test_split.html) function of `sklearn`, create training and testing data subsets. Use 25% of your data as test, and remaining as your training data sets."
   ]
  },
  {
   "cell_type": "code",
   "execution_count": 5,
   "metadata": {},
   "outputs": [],
   "source": [
    "Xtrain, Xtest, Ytrain, Ytest = train_test_split(task2_data.iloc[:,0:1], task2_data.iloc[:,2], test_size=0.25, random_state=42)"
   ]
  },
  {
   "cell_type": "markdown",
   "metadata": {},
   "source": [
    "Now, using [`sklearn.cluster.KMeans`](http://scikit-learn.org/stable/modules/generated/sklearn.cluster.KMeans.html) create a k-means model below for 2 clusters, train it and use the test dataset to make predictions:"
   ]
  },
  {
   "cell_type": "code",
   "execution_count": 6,
   "metadata": {},
   "outputs": [],
   "source": [
    "model = KMeans(n_clusters=2, random_state=9) \n",
    "model.fit(Xtrain) \n",
    "predictions = model.predict(Xtest) "
   ]
  },
  {
   "cell_type": "markdown",
   "metadata": {},
   "source": [
    "Now, using [`sklearn.metrics.confusion_matrix`](http://scikit-learn.org/stable/modules/generated/sklearn.metrics.confusion_matrix.html) construct the confusion matrix, and calculate your accuracy using sklearn's [cross-validation tools](http://scikit-learn.org/stable/modules/model_evaluation.html).  Try to repeat your experiments until you reach a reasonable accuracy result."
   ]
  },
  {
   "cell_type": "code",
   "execution_count": 7,
   "metadata": {},
   "outputs": [
    {
     "data": {
      "text/plain": [
       "0.5168067226890757"
      ]
     },
     "execution_count": 7,
     "metadata": {},
     "output_type": "execute_result"
    }
   ],
   "source": [
    "from sklearn.metrics import accuracy_score\n",
    "cm = confusion_matrix(Ytest, predictions)\n",
    "accuracy = accuracy_score(Ytest, predictions)\n",
    "accuracy"
   ]
  },
  {
   "cell_type": "markdown",
   "metadata": {},
   "source": [
    "As you observed, your accuracy is really terrible.  Inspect the data, make a plot and observe that k-means **will never** produce a usable estimate of clusters for this dataset:"
   ]
  },
  {
   "cell_type": "code",
   "execution_count": 9,
   "metadata": {},
   "outputs": [
    {
     "data": {
      "text/plain": [
       "Text(0.5,1,'Predicted Clusters')"
      ]
     },
     "execution_count": 9,
     "metadata": {},
     "output_type": "execute_result"
    },
    {
     "data": {
      "image/png": "[encoded data removed]",
      "text/plain": [
       "<matplotlib.figure.Figure at 0x15482247470>"
      ]
     },
     "metadata": {},
     "output_type": "display_data"
    },
    {
     "data": {
      "image/png": "[encoded data removed]",
      "text/plain": [
       "<matplotlib.figure.Figure at 0x154830ff978>"
      ]
     },
     "metadata": {},
     "output_type": "display_data"
    }
   ],
   "source": [
    "## Do your inspections and plots in this cell\n",
    "import matplotlib.pyplot as plt\n",
    "import seaborn\n",
    "seaborn.set(style='ticks')\n",
    "fg = seaborn.FacetGrid(data=task2_data, hue='c', hue_order=[0,1], aspect=1.61)\n",
    "fg.map(plt.scatter, 'x', 'y').add_legend()\n",
    "plt.title('Real Clusters')\n",
    "\n",
    "task2_data2 = task2_data.assign(predicted=model.predict(task2_data.iloc[:,0:1]))\n",
    "fg2 = seaborn.FacetGrid(data=task2_data2, hue='predicted', hue_order=[0,1], aspect=1.61)\n",
    "fg2.map(plt.scatter, 'x', 'y').add_legend()\n",
    "plt.title('Predicted Clusters')"
   ]
  },
  {
   "cell_type": "markdown",
   "metadata": {},
   "source": [
    "In this cell, write an explanation as to why the k-means algorithm will never work:\n",
    "\n",
    "### Your explanation goes below\n",
    "\n",
    "In the first graph, the real clusters of the data are shown. In this graph, we see that the cluster centroids are more or less equal to each other. Since the algorithm uses cluster centroids to determine the clusters, in this case this algorihm does not work properly and the result becomes like the second graph in the cell above."
   ]
  },
  {
   "cell_type": "markdown",
   "metadata": {},
   "source": [
    "## Task 3\n",
    "\n",
    "Now, instead of using k-means model, let us use a k-nn model.  Below, using [`sklearn.neighbors.KNeighborsClassifier`](http://scikit-learn.org/stable/modules/generated/sklearn.neighbors.KNeighborsClassifier.html) create a model, train it and use the test dataset to make predictions.  Use the same train-test datasets we created earlier.  You are free to choose the parameters 'k' and the 'metric':"
   ]
  },
  {
   "cell_type": "code",
   "execution_count": 10,
   "metadata": {},
   "outputs": [],
   "source": [
    "model = KNeighborsClassifier(n_neighbors=3, metric='euclidean')\n",
    "model.fit(Xtrain, Ytrain) \n",
    "predictions =  model.predict(Xtest)"
   ]
  },
  {
   "cell_type": "markdown",
   "metadata": {},
   "source": [
    "Now, construct the confusion matrix, and calculate your accuracy."
   ]
  },
  {
   "cell_type": "code",
   "execution_count": 11,
   "metadata": {},
   "outputs": [
    {
     "data": {
      "text/plain": [
       "0.7941176470588235"
      ]
     },
     "execution_count": 11,
     "metadata": {},
     "output_type": "execute_result"
    }
   ],
   "source": [
    "cm = confusion_matrix(Ytest, predictions) \n",
    "accuracy = accuracy_score(Ytest, predictions) \n",
    "accuracy"
   ]
  },
  {
   "cell_type": "markdown",
   "metadata": {},
   "source": [
    "Accuracy is much better. Explain below why, in theory, this method does produce better results in this case:\n",
    "\n",
    "### Your explanation goes below\n",
    "\n",
    "This method works better in this case because the algorithm is based on the nearest neighbors and sets the unlabeled data according to the nearest data points. Since, in this data the clusters are quite seperated from each other, this method works better than the k-means algorithm."
   ]
  },
  {
   "cell_type": "markdown",
   "metadata": {},
   "source": [
    "## Task 4\n",
    "\n",
    "Using [`pandas.read_excel`]() read the [Breast Tissue Data Set](https://archive.ics.uci.edu/ml/datasets/Breast+Tissue) which is at 'data/BreastTissue.xlsx'"
   ]
  },
  {
   "cell_type": "code",
   "execution_count": 12,
   "metadata": {},
   "outputs": [],
   "source": [
    "data = pd.read_excel(os.path.expanduser('~/MAT388E/data/BreastTissue.xlsx'))# your code goes here\n",
    "data.head(10)\n",
    "xs = data.iloc[:,1:]\n",
    "ys = data.iloc[:,0]"
   ]
  },
  {
   "cell_type": "markdown",
   "metadata": {},
   "source": [
    "Now, create a k-nn model, train and test it. Your dependent variable is `Class` column. You are free to choose `k` and the `metric`:"
   ]
  },
  {
   "cell_type": "code",
   "execution_count": 13,
   "metadata": {},
   "outputs": [],
   "source": [
    "Xtrain, Xtest, Ytrain, Ytest = train_test_split(xs, ys, test_size=0.25, random_state=42)"
   ]
  },
  {
   "cell_type": "code",
   "execution_count": 14,
   "metadata": {},
   "outputs": [
    {
     "name": "stdout",
     "output_type": "stream",
     "text": [
      "[[3 0 0 0 0 0]\n",
      " [0 6 0 0 0 0]\n",
      " [1 1 2 0 0 0]\n",
      " [0 0 0 2 1 2]\n",
      " [0 0 0 3 1 1]\n",
      " [0 0 0 1 1 2]]\n",
      "0.5925925925925926\n"
     ]
    }
   ],
   "source": [
    "model = KNeighborsClassifier(n_neighbors=3, metric='euclidean')\n",
    "model.fit(Xtrain, Ytrain)\n",
    "predicted = model.predict(Xtest)\n",
    "cm = confusion_matrix(Ytest, predicted)\n",
    "accuracy = accuracy_score(Ytest, predicted)\n",
    "print(cm)\n",
    "print(accuracy)"
   ]
  },
  {
   "cell_type": "markdown",
   "metadata": {},
   "source": [
    "Now, using [feature scaling](http://scikit-learn.org/stable/modules/preprocessing.html), specifically, using [`StandardScaler`](http://scikit-learn.org/stable/modules/generated/sklearn.preprocessing.StandardScaler.html#sklearn.preprocessing.StandardScaler) normalize the feature columns `xs` we defined earlier below:"
   ]
  },
  {
   "cell_type": "code",
   "execution_count": 16,
   "metadata": {},
   "outputs": [],
   "source": [
    "scaler = StandardScaler()\n",
    "scaler.fit(xs)\n",
    "xs = scaler.fit_transform(xs)"
   ]
  },
  {
   "cell_type": "markdown",
   "metadata": {},
   "source": [
    "Now, repeat mdoel construction, training, testing and accuracy calculation"
   ]
  },
  {
   "cell_type": "code",
   "execution_count": 17,
   "metadata": {},
   "outputs": [
    {
     "name": "stdout",
     "output_type": "stream",
     "text": [
      "[[3 0 0 0 0 0]\n",
      " [0 6 0 0 0 0]\n",
      " [0 0 4 0 0 0]\n",
      " [0 1 0 2 0 2]\n",
      " [0 0 0 2 3 0]\n",
      " [0 0 0 0 2 2]]\n",
      "0.7407407407407407\n"
     ]
    }
   ],
   "source": [
    "Xtrain, Xtest, Ytrain, Ytest = train_test_split(xs, ys, test_size=0.25, random_state=42)\n",
    "model = KNeighborsClassifier(n_neighbors=3, metric='euclidean')\n",
    "model.fit(Xtrain, Ytrain)\n",
    "predicted = model.predict(Xtest)\n",
    "cm = confusion_matrix(Ytest, predicted)\n",
    "accuracy = accuracy_score(Ytest, predicted)\n",
    "print(cm)\n",
    "print(accuracy)"
   ]
  },
  {
   "cell_type": "markdown",
   "metadata": {},
   "source": [
    "Why did we get better results? Explain below:\n",
    "\n",
    "### Your explanation goes below\n",
    "\n",
    "The algorithm is based on the distances, in this case euclidean distance, and the variation of the variables affects the algorithm. For example, if one variable has a range from 0 to 1000000 while the other one has a range between 0 to 1, the first variable will have a huge effect on the algorithm and other variable will have almost no effect. Thus, the clusters will be determined based on only one variable in such cases. Thus, the feature scaling has an important role in the K-NN algorithm."
   ]
  },
  {
   "cell_type": "markdown",
   "metadata": {},
   "source": [
    "## Task 5\n",
    "\n",
    "Now, construct a k-means model for the same dataset [Breast Tissue Data Set](https://archive.ics.uci.edu/ml/datasets/Breast+Tissue) which is at 'data/BreastTissue.xlsx' first using the original data, then again, using feature scaling. At the end compare accuracies."
   ]
  },
  {
   "cell_type": "code",
   "execution_count": 18,
   "metadata": {},
   "outputs": [
    {
     "name": "stdout",
     "output_type": "stream",
     "text": [
      "[[1 0 2 0 0 0]\n",
      " [0 5 0 0 0 0]\n",
      " [0 0 4 0 0 0]\n",
      " [0 0 0 4 0 2]\n",
      " [0 2 0 0 0 2]\n",
      " [0 2 0 0 0 3]]\n",
      "0.6296296296296297\n"
     ]
    }
   ],
   "source": [
    "# Since we have already applied feature scaling in the previous step, there is no need to apply again\n",
    "# Thus, I directly jumped to the model building step in this task.\n",
    "\n",
    "model = KMeans(n_clusters=6, random_state=9) \n",
    "model.fit(Xtrain) \n",
    "predictions = model.predict(Xtest) \n",
    "labels = {\"adi\":0, \"car\":3, \"con\":2, \"gla\":5, \"mas\":4, \"fad\":1}\n",
    "real = Ytest.map(lambda x: labels[x])\n",
    "cm = confusion_matrix(real, predictions)\n",
    "accuracy = accuracy_score(real, predictions)\n",
    "print(cm)\n",
    "print(accuracy)"
   ]
  },
  {
   "cell_type": "markdown",
   "metadata": {},
   "source": [
    "The accuracy in this method is 0.6296 which is lower than the K-NN method. In this dataset, it is more appropriate to use the K-NN method."
   ]
  }
 ],
 "metadata": {
  "kernelspec": {
   "display_name": "Python 3",
   "language": "python",
   "name": "python3"
  },
  "language_info": {
   "codemirror_mode": {
    "name": "ipython",
    "version": 3
   },
   "file_extension": ".py",
   "mimetype": "text/x-python",
   "name": "python",
   "nbconvert_exporter": "python",
   "pygments_lexer": "ipython3",
   "version": "3.6.4"
  }
 },
 "nbformat": 4,
 "nbformat_minor": 2
}
