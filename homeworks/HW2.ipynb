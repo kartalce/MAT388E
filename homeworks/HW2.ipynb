{
 "cells": [
  {
   "cell_type": "markdown",
   "metadata": {},
   "source": [
    "# Homework 2\n",
    "\n",
    "This homework will get you start working with R. Before we do anything, run the following code:"
   ]
  },
  {
   "cell_type": "code",
   "execution_count": 3,
   "metadata": {},
   "outputs": [],
   "source": [
    "cat(Sys.info(),file=\"../other/hw2-info\")"
   ]
  },
  {
   "cell_type": "markdown",
   "metadata": {},
   "source": [
    "## Task 1\n",
    "\n",
    "Install and load the library [RUnit](https://cran.rstudio.com/web/packages/RUnit/index.html) in the cell below."
   ]
  },
  {
   "cell_type": "code",
   "execution_count": 4,
   "metadata": {},
   "outputs": [],
   "source": [
    "library(RUnit)"
   ]
  },
  {
   "cell_type": "markdown",
   "metadata": {},
   "source": [
    "## Task 2\n",
    "\n",
    "Read the documentation on the [distrubutions supported by R](https://stat.ethz.ch/R-manual/R-devel/library/stats/html/Distributions.html). Now, in the cell below write the code that takes a sample floating point numbers of size 2500 from the normal distribution with mean 1.0 and standard deviation 0.5. If your code is correct, the cell below will run without an error."
   ]
  },
  {
   "cell_type": "code",
   "execution_count": 3,
   "metadata": {},
   "outputs": [
    {
     "data": {
      "text/html": [
       "TRUE"
      ],
      "text/latex": [
       "TRUE"
      ],
      "text/markdown": [
       "TRUE"
      ],
      "text/plain": [
       "[1] TRUE"
      ]
     },
     "metadata": {},
     "output_type": "display_data"
    },
    {
     "data": {
      "text/html": [
       "TRUE"
      ],
      "text/latex": [
       "TRUE"
      ],
      "text/markdown": [
       "TRUE"
      ],
      "text/plain": [
       "[1] TRUE"
      ]
     },
     "metadata": {},
     "output_type": "display_data"
    }
   ],
   "source": [
    "xs <- rnorm(2500, mean=1.0, sd=0.5)\n",
    "\n",
    "## Do not alter the code below\n",
    "\n",
    "checkEquals(length(xs),2500)\n",
    "checkTrue(ks.test(xs,rnorm(1000,mean=1.0,sd=0.5))$statistic < 0.05)"
   ]
  },
  {
   "cell_type": "markdown",
   "metadata": {},
   "source": [
    "Now, calculate the mean and standard deviation of the collection `xs` we defined above:"
   ]
  },
  {
   "cell_type": "code",
   "execution_count": 4,
   "metadata": {},
   "outputs": [
    {
     "data": {
      "text/html": [
       "1.01202944668891"
      ],
      "text/latex": [
       "1.01202944668891"
      ],
      "text/markdown": [
       "1.01202944668891"
      ],
      "text/plain": [
       "[1] 1.012029"
      ]
     },
     "metadata": {},
     "output_type": "display_data"
    },
    {
     "data": {
      "text/html": [
       "0.516200583468341"
      ],
      "text/latex": [
       "0.516200583468341"
      ],
      "text/markdown": [
       "0.516200583468341"
      ],
      "text/plain": [
       "[1] 0.5162006"
      ]
     },
     "metadata": {},
     "output_type": "display_data"
    }
   ],
   "source": [
    "# Here goes your code for the mean\n",
    "mean(xs)\n",
    "\n",
    "# Here goes your code for the standard deviation\n",
    "sd(xs)\n"
   ]
  },
  {
   "cell_type": "markdown",
   "metadata": {},
   "source": [
    "In the cell below, explain in plain words why the mean and deviation did not come out exactly 1.0 and 0.5."
   ]
  },
  {
   "cell_type": "markdown",
   "metadata": {},
   "source": [
    "*Since we gave the inputs of the rnorm function as 1.0 for the mean and 0.5 for the standard deviation, the function returned the mean and the median with only one significant figure in the decimals. The numbers can be rounded to 1.0 and 0.5 respectively.*"
   ]
  },
  {
   "cell_type": "markdown",
   "metadata": {},
   "source": [
    "## Task 3\n",
    "\n",
    "Now, repeat what you have done above for the uniform distribution. Read the documentation first and then take a sample of 5000 numbers uniformly distributed between -1 and 1 below:"
   ]
  },
  {
   "cell_type": "code",
   "execution_count": 6,
   "metadata": {},
   "outputs": [
    {
     "data": {
      "text/html": [
       "TRUE"
      ],
      "text/latex": [
       "TRUE"
      ],
      "text/markdown": [
       "TRUE"
      ],
      "text/plain": [
       "[1] TRUE"
      ]
     },
     "metadata": {},
     "output_type": "display_data"
    },
    {
     "data": {
      "text/html": [
       "TRUE"
      ],
      "text/latex": [
       "TRUE"
      ],
      "text/markdown": [
       "TRUE"
      ],
      "text/plain": [
       "[1] TRUE"
      ]
     },
     "metadata": {},
     "output_type": "display_data"
    }
   ],
   "source": [
    "ys <- runif(5000, min = -1, max = 1)\n",
    "\n",
    "## Do not alter the code below\n",
    "\n",
    "checkEquals(length(ys),5000)\n",
    "checkTrue(ks.test(ys,runif(1000,min=-1.0,max=1.0))$statistic < 0.05)"
   ]
  },
  {
   "cell_type": "markdown",
   "metadata": {},
   "source": [
    "Now, sketch a histogram of the collections `xs` and `ys` below:"
   ]
  },
  {
   "cell_type": "code",
   "execution_count": 7,
   "metadata": {},
   "outputs": [
    {
     "data": {
      "text/html": [
       "<strong>png:</strong> 2"
      ],
      "text/latex": [
       "\\textbf{png:} 2"
      ],
      "text/markdown": [
       "**png:** 2"
      ],
      "text/plain": [
       "png \n",
       "  2 "
      ]
     },
     "metadata": {},
     "output_type": "display_data"
    },
    {
     "data": {
      "text/html": [
       "TRUE"
      ],
      "text/latex": [
       "TRUE"
      ],
      "text/markdown": [
       "TRUE"
      ],
      "text/plain": [
       "[1] TRUE"
      ]
     },
     "metadata": {},
     "output_type": "display_data"
    }
   ],
   "source": [
    "png(file=\"../images/HW2-task3.png\")\n",
    "par(mfrow=c(2,1))\n",
    "# Do not alter the code above\n",
    "\n",
    "\n",
    "# Here goes your code for the histogram of xs\n",
    "hist(xs)\n",
    "\n",
    "# Here goes your code for the histogram of ys\n",
    "hist(ys)\n",
    "\n",
    "# Do not alter the code below\n",
    "dev.off()\n",
    "checkTrue(file.exists(\"../images/HW2-task3.png\"))"
   ]
  },
  {
   "cell_type": "markdown",
   "metadata": {},
   "source": [
    "In your own words, explain the difference between `xs` and `ys` in the cell below. How does this difference shows itself in the histograms."
   ]
  },
  {
   "cell_type": "markdown",
   "metadata": {},
   "source": [
    "*The elements of xs are normally distributed with the mean 1 and standard deviation 0.5. This distribution is called Gaussian distribution. In the histogram, the number of elements of xs increases over the median value and decreases as the value of the elements either increases or decreases. On the other hand, ys are uniformly distributed, which means there are more or less the same number of elements in each bin of the histogram. *"
   ]
  },
  {
   "cell_type": "markdown",
   "metadata": {},
   "source": [
    "## Task 4\n",
    "\n",
    "Read the documentation on [sample](https://stat.ethz.ch/R-manual/R-devel/library/base/html/sample.html) and simulate throwing a biased coin with odds of getting a 'heads' against a 'tails' is 4 to 1."
   ]
  },
  {
   "cell_type": "code",
   "execution_count": 8,
   "metadata": {},
   "outputs": [
    {
     "data": {
      "text/plain": [
       "result\n",
       "heads tails \n",
       "31961  8039 "
      ]
     },
     "metadata": {},
     "output_type": "display_data"
    }
   ],
   "source": [
    "result <- sample(c(\"heads\",\"tails\"), 40000, replace=TRUE, prob=c(0.80,0.20))\n",
    "\n",
    "table(result)"
   ]
  },
  {
   "cell_type": "markdown",
   "metadata": {},
   "source": [
    "## Task 5\n",
    "\n",
    "R comes prepackaged with a large number of datasets. You can read about them [from here](https://stat.ethz.ch/R-manual/R-patched/library/datasets/html/00Index.html).  For this task, we are going to use [mtcars](https://stat.ethz.ch/R-manual/R-patched/library/datasets/html/mtcars.html) dataset.\n",
    "\n",
    "Our first subtask is to filter the data-set: In the cell below, filter `mtcars` such that we are left with only the data for the cars with 4 cyclinders or less."
   ]
  },
  {
   "cell_type": "code",
   "execution_count": 9,
   "metadata": {},
   "outputs": [
    {
     "data": {
      "text/html": [
       "TRUE"
      ],
      "text/latex": [
       "TRUE"
      ],
      "text/markdown": [
       "TRUE"
      ],
      "text/plain": [
       "[1] TRUE"
      ]
     },
     "metadata": {},
     "output_type": "display_data"
    }
   ],
   "source": [
    "subcollection <-  mtcars[mtcars$cyl <=4, ]\n",
    "\n",
    "# Do not alter the code below\n",
    "\n",
    "checkEquals(subcollection$cyl,rep(4,11))"
   ]
  },
  {
   "cell_type": "markdown",
   "metadata": {},
   "source": [
    "Now, calculate the average fuel efficiency for cars with 4 or less than 4 cylinders below."
   ]
  },
  {
   "cell_type": "code",
   "execution_count": 10,
   "metadata": {},
   "outputs": [
    {
     "data": {
      "text/html": [
       "TRUE"
      ],
      "text/latex": [
       "TRUE"
      ],
      "text/markdown": [
       "TRUE"
      ],
      "text/plain": [
       "[1] TRUE"
      ]
     },
     "metadata": {},
     "output_type": "display_data"
    }
   ],
   "source": [
    "mean.mpg <- mean(subcollection$mpg)\n",
    "\n",
    "checkEqualsNumeric(mean.mpg, 26.66, tolerance = 0.001)"
   ]
  },
  {
   "cell_type": "markdown",
   "metadata": {},
   "source": [
    "## Task 6\n",
    "\n",
    "Read the documentation on [`aggregate`](https://stat.ethz.ch/R-manual/R-devel/library/stats/html/aggregate.html).  Using this function, calculate mean miles per galon for the `mtcars` datasets grouped by the number of cylinders."
   ]
  },
  {
   "cell_type": "code",
   "execution_count": 11,
   "metadata": {},
   "outputs": [
    {
     "data": {
      "text/html": [
       "TRUE"
      ],
      "text/latex": [
       "TRUE"
      ],
      "text/markdown": [
       "TRUE"
      ],
      "text/plain": [
       "[1] TRUE"
      ]
     },
     "metadata": {},
     "output_type": "display_data"
    }
   ],
   "source": [
    "res <-  aggregate(mpg~cyl, data=mtcars, mean)\n",
    "\n",
    "checkEqualsNumeric(res$mpg,c(26.66,19.74,15.1),tolerance = 0.001)"
   ]
  },
  {
   "cell_type": "markdown",
   "metadata": {},
   "source": [
    "## Task 7\n",
    "\n",
    "Read the documentation on [plot](https://stat.ethz.ch/R-manual/R-devel/library/graphics/html/plot.html) and make a line plot of the time series dataset [AirPassengers](https://stat.ethz.ch/R-manual/R-patched/library/datasets/html/AirPassengers.html).\n"
   ]
  },
  {
   "cell_type": "code",
   "execution_count": 12,
   "metadata": {},
   "outputs": [
    {
     "data": {
      "text/html": [
       "<strong>png:</strong> 2"
      ],
      "text/latex": [
       "\\textbf{png:} 2"
      ],
      "text/markdown": [
       "**png:** 2"
      ],
      "text/plain": [
       "png \n",
       "  2 "
      ]
     },
     "metadata": {},
     "output_type": "display_data"
    },
    {
     "data": {
      "text/html": [
       "TRUE"
      ],
      "text/latex": [
       "TRUE"
      ],
      "text/markdown": [
       "TRUE"
      ],
      "text/plain": [
       "[1] TRUE"
      ]
     },
     "metadata": {},
     "output_type": "display_data"
    }
   ],
   "source": [
    "png(file=\"../images/hw2-task7a.png\")\n",
    "# Do not alter the code above this line\n",
    "\n",
    "# Your plot code goes here\n",
    "plot(AirPassengers, type='l', main=\"Air Passengers\")\n",
    "\n",
    "# Do not alter the code below this line\n",
    "dev.off()\n",
    "checkTrue(file.exists(\"../images/hw2-task7a.png\"))"
   ]
  },
  {
   "cell_type": "markdown",
   "metadata": {},
   "source": [
    "Now, read the documentation on [pairs](https://stat.ethz.ch/R-manual/R-devel/library/graphics/html/pairs.html) and make a pairs plot of the [iris dataset](https://stat.ethz.ch/R-manual/R-patched/library/datasets/html/iris.html)."
   ]
  },
  {
   "cell_type": "code",
   "execution_count": 13,
   "metadata": {},
   "outputs": [
    {
     "data": {
      "text/html": [
       "<strong>png:</strong> 2"
      ],
      "text/latex": [
       "\\textbf{png:} 2"
      ],
      "text/markdown": [
       "**png:** 2"
      ],
      "text/plain": [
       "png \n",
       "  2 "
      ]
     },
     "metadata": {},
     "output_type": "display_data"
    },
    {
     "data": {
      "text/html": [
       "TRUE"
      ],
      "text/latex": [
       "TRUE"
      ],
      "text/markdown": [
       "TRUE"
      ],
      "text/plain": [
       "[1] TRUE"
      ]
     },
     "metadata": {},
     "output_type": "display_data"
    }
   ],
   "source": [
    "png(file=\"../images/hw2-task7b.png\")\n",
    "# Do not alter the code above this line\n",
    "\n",
    "pairs(iris[1:4])\n",
    "\n",
    "# Do not alter the code below this line\n",
    "dev.off()\n",
    "checkTrue(file.exists(\"../images/hw2-task7b.png\"))"
   ]
  }
 ],
 "metadata": {
  "kernelspec": {
   "display_name": "R",
   "language": "R",
   "name": "ir"
  },
  "language_info": {
   "codemirror_mode": "r",
   "file_extension": ".r",
   "mimetype": "text/x-r-source",
   "name": "R",
   "pygments_lexer": "r",
   "version": "3.5.1"
  }
 },
 "nbformat": 4,
 "nbformat_minor": 2
}
